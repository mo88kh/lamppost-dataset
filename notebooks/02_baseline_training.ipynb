{
 "cells": [
  {
   "metadata": {},
   "cell_type": "raw",
   "source": [
    "    #%%\n",
    "# if Torch isn't in your venv yet:\n",
    "# %pip install torch torchvision torcheval matplotlib scikit-learn"
   ],
   "id": "792db2b7d8b68fcc"
  },
  {
   "metadata": {
    "ExecuteTime": {
     "end_time": "2025-05-04T05:57:11.872912Z",
     "start_time": "2025-05-04T05:57:11.856917Z"
    }
   },
   "cell_type": "code",
   "source": [
    "import torch, torchvision\n",
    "from torchvision import transforms\n",
    "from torcheval.metrics import MulticlassAccuracy, MulticlassConfusionMatrix\n",
    "from torch import nn\n",
    "import matplotlib.pyplot as plt\n",
    "from pathlib import Path\n",
    "import time, json, random, numpy as np"
   ],
   "id": "7c3f28063d357b07",
   "outputs": [],
   "execution_count": 7
  },
  {
   "metadata": {},
   "cell_type": "markdown",
   "source": "1 Paths & hyper-params",
   "id": "415f57e6bd4ed575"
  },
  {
   "metadata": {
    "ExecuteTime": {
     "end_time": "2025-05-04T05:57:15.857212Z",
     "start_time": "2025-05-04T05:57:15.844283Z"
    }
   },
   "cell_type": "code",
   "source": [
    "DATA_DIR   = Path(\"../data/exports\")     # adjust if notebook root differs\n",
    "BS         = 64\n",
    "LR         = 1e-3\n",
    "EPOCHS     = 35\n",
    "patience = 8\n",
    "DEVICE     = \"cuda\" if torch.cuda.is_available() else \"cpu\""
   ],
   "id": "c63c84b3ec24b76c",
   "outputs": [],
   "execution_count": 8
  },
  {
   "metadata": {},
   "cell_type": "markdown",
   "source": " Transforms & loaders",
   "id": "92d543cc44f26888"
  },
  {
   "metadata": {
    "ExecuteTime": {
     "end_time": "2025-05-04T05:57:19.588703Z",
     "start_time": "2025-05-04T05:57:19.151738Z"
    }
   },
   "cell_type": "code",
   "source": [
    "train_tf = transforms.Compose([\n",
    "    transforms.RandomHorizontalFlip(),\n",
    "    transforms.RandomVerticalFlip(),\n",
    "    transforms.RandomRotation(15),\n",
    "    transforms.ColorJitter(brightness=0.4, contrast=0.4,\n",
    "                           saturation=0.3, hue=0.05),\n",
    "    transforms.RandomResizedCrop(100, scale=(0.75, 1.0)),\n",
    "    transforms.GaussianBlur(3, sigma=(0.1, 2.0)),   # mild blur / rain\n",
    "    transforms.ToTensor()\n",
    "])\n",
    "val_tf = transforms.ToTensor()\n",
    "\n",
    "train_ds = torchvision.datasets.ImageFolder(DATA_DIR/\"train\", transform=train_tf)\n",
    "val_ds   = torchvision.datasets.ImageFolder(DATA_DIR/\"val\",   transform=val_tf)\n",
    "test_ds  = torchvision.datasets.ImageFolder(DATA_DIR/\"test\",  transform=val_tf)\n",
    "\n",
    "train_ld = torch.utils.data.DataLoader(train_ds, BS, shuffle=True,  num_workers=2)\n",
    "val_ld   = torch.utils.data.DataLoader(val_ds,   BS, shuffle=False, num_workers=2)\n",
    "test_ld  = torch.utils.data.DataLoader(test_ds,  BS, shuffle=False, num_workers=2)\n",
    "\n",
    "print(f\"train {len(train_ds)}  val {len(val_ds)}  test {len(test_ds)}\")\n"
   ],
   "id": "a0884fa9e044d291",
   "outputs": [
    {
     "name": "stdout",
     "output_type": "stream",
     "text": [
      "train 50589  val 14453  test 7226\n"
     ]
    }
   ],
   "execution_count": 9
  },
  {
   "metadata": {},
   "cell_type": "markdown",
   "source": "Weighted Loss",
   "id": "4ec781bd57da1076"
  },
  {
   "metadata": {
    "ExecuteTime": {
     "end_time": "2025-05-04T05:57:52.720022Z",
     "start_time": "2025-05-04T05:57:52.708827Z"
    }
   },
   "cell_type": "code",
   "source": [
    "from collections import Counter\n",
    "\n",
    "# compute class–balance weights once\n",
    "counts = Counter([lbl for _, lbl in train_ds.samples])   # {0:neg, 1:pos}\n",
    "print(counts)\n",
    "total  = counts[0] + counts[1]\n",
    "weights = torch.tensor([\n",
    "    total / (2 * counts[0]),          # weight for class 0 (neg)\n",
    "    total / (2 * counts[1])           # weight for class 1 (pos)\n",
    "], dtype=torch.float32).to(DEVICE)\n",
    "loss_fn = nn.CrossEntropyLoss(weight=weights)"
   ],
   "id": "5e285c8a680040b6",
   "outputs": [
    {
     "name": "stdout",
     "output_type": "stream",
     "text": [
      "Counter({0: 25383, 1: 25206})\n"
     ]
    }
   ],
   "execution_count": 10
  },
  {
   "metadata": {},
   "cell_type": "markdown",
   "source": "3 Model = Tiny EfficientNet-B0 (from torchvision)",
   "id": "9a0fdffceca7482"
  },
  {
   "metadata": {
    "ExecuteTime": {
     "end_time": "2025-05-04T06:00:02.552502Z",
     "start_time": "2025-05-04T05:59:54.209835Z"
    }
   },
   "cell_type": "code",
   "source": [
    "from torchvision.models import efficientnet_b1, EfficientNet_B1_Weights\n",
    "from torch import nn\n",
    "\n",
    "# 1️⃣ load ImageNet-pretrained backbone\n",
    "weights = EfficientNet_B1_Weights.IMAGENET1K_V1      # or \".DEFAULT\"\n",
    "model   = efficientnet_b1(weights=weights)\n",
    "\n",
    "# 2️⃣ swap the classifier to 2-class\n",
    "in_feat = model.classifier[-1].in_features           # 1280 for B1\n",
    "model.classifier[-1] = nn.Linear(in_feat, 2)\n",
    "\n",
    "model = model.to(DEVICE)\n",
    "optim    = torch.optim.Adam(model.parameters(), lr=LR)\n",
    "scheduler = torch.optim.lr_scheduler.CosineAnnealingLR(optim, T_max=EPOCHS)\n",
    "#scheduler = torch.optim.lr_scheduler.StepLR(optim, step_size=3, gamma=0.5)"
   ],
   "id": "b923b60f8a4708ac",
   "outputs": [
    {
     "name": "stdout",
     "output_type": "stream",
     "text": [
      "Downloading: \"https://download.pytorch.org/models/efficientnet_b1_rwightman-bac287d4.pth\" to C:\\Users\\modar/.cache\\torch\\hub\\checkpoints\\efficientnet_b1_rwightman-bac287d4.pth\n"
     ]
    },
    {
     "name": "stderr",
     "output_type": "stream",
     "text": [
      "100%|██████████| 30.1M/30.1M [00:07<00:00, 4.35MB/s]\n"
     ]
    }
   ],
   "execution_count": 12
  },
  {
   "metadata": {},
   "cell_type": "markdown",
   "source": "4 Training / validation loop",
   "id": "564e9c07d2a41c9e"
  },
  {
   "metadata": {
    "ExecuteTime": {
     "end_time": "2025-05-04T14:49:31.467978Z",
     "start_time": "2025-05-04T06:00:22.508374Z"
    }
   },
   "cell_type": "code",
   "source": [
    "def run_epoch(loader, train=True):\n",
    "    model.train(train)\n",
    "    loss_sum, n = 0, 0\n",
    "    metric = MulticlassAccuracy(num_classes=2).to(DEVICE)\n",
    "    for x, y in loader:\n",
    "        x, y = x.to(DEVICE), y.to(DEVICE)\n",
    "        if train:\n",
    "            optim.zero_grad()\n",
    "        logits = model(x)\n",
    "        loss = loss_fn(logits, y)\n",
    "        if train:\n",
    "            loss.backward()\n",
    "            optim.step()\n",
    "        loss_sum += loss.item() * x.size(0)\n",
    "        n += x.size(0)\n",
    "        metric.update(logits, y)\n",
    "    return loss_sum / n, metric.compute().item()\n",
    "\n",
    "best_val = 0\n",
    "best_state = None\n",
    "wait = 0\n",
    "print(f\"early-stop patience = {patience}\")\n",
    "\n",
    "for epoch in range(1, EPOCHS + 1):\n",
    "    t0 = time.time()\n",
    "    tr_loss, tr_acc = run_epoch(train_ld, train=True)\n",
    "    val_loss, val_acc = run_epoch(val_ld, train=False)\n",
    "    scheduler.step()\n",
    "\n",
    "    print(f\"{epoch:02d} {tr_loss:.3f} {tr_acc:.3f} | {val_loss:.3f} {val_acc:.3f}  ({time.time() - t0:.1f}s)\")\n",
    "\n",
    "    if val_acc > best_val:\n",
    "        best_val = val_acc\n",
    "        best_state = model.state_dict()\n",
    "        wait = 0\n",
    "        print(f\"New best_val: {best_val:.4f}\")\n",
    "    else:\n",
    "        wait += 1\n",
    "        if wait >= patience:\n",
    "            print(\"Early-stop at epoch\", epoch)\n",
    "            break\n",
    "model.load_state_dict(best_state)\n"
   ],
   "id": "809d4812391c9138",
   "outputs": [
    {
     "name": "stdout",
     "output_type": "stream",
     "text": [
      "early-stop patience = 8\n",
      "01 0.349 0.854 | 0.269 0.894  (1406.3s)\n",
      "New best_val: 0.8937\n",
      "02 0.291 0.881 | 0.236 0.906  (1202.6s)\n",
      "New best_val: 0.9063\n",
      "03 0.275 0.888 | 0.223 0.915  (845.3s)\n",
      "New best_val: 0.9155\n",
      "04 0.259 0.895 | 0.237 0.912  (841.4s)\n",
      "05 0.251 0.899 | 0.218 0.914  (843.5s)\n",
      "06 0.244 0.903 | 0.203 0.920  (849.6s)\n",
      "New best_val: 0.9195\n",
      "07 0.234 0.907 | 0.196 0.921  (858.4s)\n",
      "New best_val: 0.9210\n",
      "08 0.225 0.911 | 0.194 0.926  (848.6s)\n",
      "New best_val: 0.9260\n",
      "09 0.217 0.913 | 0.196 0.922  (842.2s)\n",
      "10 0.209 0.918 | 0.188 0.928  (847.0s)\n",
      "New best_val: 0.9280\n",
      "11 0.200 0.922 | 0.200 0.926  (850.5s)\n",
      "12 0.193 0.925 | 0.197 0.926  (852.5s)\n",
      "13 0.185 0.928 | 0.193 0.929  (849.5s)\n",
      "New best_val: 0.9294\n",
      "14 0.177 0.931 | 0.192 0.928  (855.8s)\n",
      "15 0.170 0.936 | 0.182 0.929  (855.4s)\n",
      "New best_val: 0.9294\n",
      "16 0.161 0.938 | 0.181 0.932  (853.5s)\n",
      "New best_val: 0.9321\n",
      "17 0.156 0.942 | 0.183 0.933  (843.8s)\n",
      "New best_val: 0.9326\n",
      "18 0.148 0.944 | 0.171 0.936  (851.2s)\n",
      "New best_val: 0.9363\n",
      "19 0.136 0.948 | 0.183 0.935  (853.3s)\n",
      "20 0.130 0.951 | 0.183 0.937  (847.3s)\n",
      "New best_val: 0.9372\n",
      "21 0.122 0.956 | 0.185 0.937  (1183.2s)\n",
      "22 0.120 0.956 | 0.197 0.933  (1344.0s)\n",
      "23 0.109 0.960 | 0.190 0.935  (980.5s)\n",
      "24 0.107 0.961 | 0.192 0.937  (853.4s)\n",
      "25 0.098 0.964 | 0.196 0.936  (850.3s)\n",
      "26 0.092 0.967 | 0.199 0.938  (857.0s)\n",
      "New best_val: 0.9381\n",
      "27 0.090 0.968 | 0.202 0.936  (854.5s)\n",
      "28 0.084 0.971 | 0.204 0.939  (851.6s)\n",
      "New best_val: 0.9391\n",
      "29 0.082 0.972 | 0.203 0.939  (853.2s)\n",
      "30 0.079 0.972 | 0.203 0.939  (864.7s)\n",
      "New best_val: 0.9395\n",
      "31 0.076 0.973 | 0.216 0.937  (855.2s)\n",
      "32 0.073 0.975 | 0.208 0.939  (859.5s)\n",
      "33 0.074 0.974 | 0.214 0.938  (858.3s)\n",
      "34 0.073 0.975 | 0.208 0.938  (911.4s)\n",
      "35 0.068 0.977 | 0.216 0.938  (874.4s)\n"
     ]
    },
    {
     "data": {
      "text/plain": [
       "<All keys matched successfully>"
      ]
     },
     "execution_count": 13,
     "metadata": {},
     "output_type": "execute_result"
    }
   ],
   "execution_count": 13
  },
  {
   "metadata": {},
   "cell_type": "markdown",
   "source": "5 Test-set evaluation & confusion-matrix",
   "id": "1e47ae238658d9d3"
  },
  {
   "metadata": {
    "ExecuteTime": {
     "end_time": "2025-05-04T14:53:49.823720Z",
     "start_time": "2025-05-04T14:52:49.103916Z"
    }
   },
   "cell_type": "code",
   "source": [
    "metric_acc = MulticlassAccuracy(num_classes=2).to(DEVICE)\n",
    "metric_cm  = MulticlassConfusionMatrix(num_classes=2).to(DEVICE)\n",
    "\n",
    "model.eval()\n",
    "with torch.no_grad():\n",
    "    for x, y in test_ld:\n",
    "        x, y = x.to(DEVICE), y.to(DEVICE)\n",
    "        logits = model(x)\n",
    "        metric_acc.update(logits, y)\n",
    "        metric_cm.update(logits, y)\n",
    "\n",
    "print(\"Test accuracy:\", metric_acc.compute().item())\n",
    "\n",
    "cm = metric_cm.compute().cpu().numpy()\n",
    "plt.imshow(cm, cmap=\"Blues\")\n",
    "plt.xticks([0,1], [\"neg\",\"pos\"]); plt.yticks([0,1], [\"neg\",\"pos\"])\n",
    "plt.colorbar(); plt.title(\"Confusion matrix\"); plt.show()"
   ],
   "id": "1a165695557f4722",
   "outputs": [
    {
     "name": "stdout",
     "output_type": "stream",
     "text": [
      "Test accuracy: 0.9377248883247375\n"
     ]
    },
    {
     "data": {
      "text/plain": [
       "<Figure size 640x480 with 2 Axes>"
      ],
      "image/png": "[encoded data removed]"
     },
     "metadata": {},
     "output_type": "display_data"
    }
   ],
   "execution_count": 14
  },
  {
   "metadata": {},
   "cell_type": "markdown",
   "source": "6 Save model & metrics (optional)",
   "id": "fa7832a1433b4c00"
  },
  {
   "metadata": {
    "ExecuteTime": {
     "end_time": "2025-05-04T16:30:43.401210Z",
     "start_time": "2025-05-04T16:30:43.292652Z"
    }
   },
   "cell_type": "code",
   "source": [
    "Path(\"../models\").mkdir(parents=True, exist_ok=True)\n",
    "torch.save(best_state, \"../models/efficientnet_best.pt\")\n",
    "with open(\"../models/final_metrics.json\", \"w\") as f:\n",
    "    json.dump({\n",
    "        \"accuracy\": metric_acc.compute().item(),\n",
    "        \"class_counts\": dict(counts),\n",
    "        \"best_val\": best_val,\n",
    "        \"epochs_ran\": epoch,\n",
    "        \"stopped_early\": wait >= patience\n",
    "    }, f, indent=2)"
   ],
   "id": "6071565717bd034d",
   "outputs": [],
   "execution_count": 18
  },
  {
   "metadata": {
    "ExecuteTime": {
     "end_time": "2025-05-04T16:30:48.270598Z",
     "start_time": "2025-05-04T16:30:47.837091Z"
    }
   },
   "cell_type": "code",
   "source": [
    "# ── 1.  Reload the checkpoint you just wrote ────────────────────────────\n",
    "import torch, torchvision, torch.nn as nn\n",
    "from torchvision.models import efficientnet_b1\n",
    "\n",
    "chk_file = \"../models/efficientnet_best.pt\"        # ← the file you saved\n",
    "print(\"Loading\", chk_file)\n",
    "\n",
    "# recreate the architecture exactly as during training\n",
    "model = efficientnet_b1(weights=None, num_classes=2)\n",
    "model.classifier[-1] = nn.Linear(model.classifier[-1].in_features, 2)\n",
    "\n",
    "state = torch.load(chk_file, map_location=\"cpu\")\n",
    "model.load_state_dict(state, strict=True)\n",
    "model.eval()\n",
    "print(\"✓ checkpoint OK – params:\", sum(p.numel() for p in model.parameters()))\n",
    "\n",
    "# ── 2.  Quick sanity-check on one tile ──────────────────────────────────\n",
    "from PIL import Image\n",
    "tile = \"../data/exports/val/pos/\" + next(iter((Path(\"../data/exports/val/pos\").glob(\"*.png\")))).name\n",
    "img = Image.open(tile).convert(\"RGB\")\n",
    "tensor = val_tf(img).unsqueeze(0)           # reuse the same val_tf transform\n",
    "\n",
    "with torch.no_grad():\n",
    "    prob_roi = torch.softmax(model(tensor), dim=1)[0, 1].item()\n",
    "\n",
    "print(f\"{Path(tile).name}  →  ROI probability = {prob_roi:.3f}\")\n",
    "# ROI tile should print ~0.9 ; pick a neg tile to see ~0.1\n"
   ],
   "id": "155c4661c61e94d9",
   "outputs": [
    {
     "name": "stdout",
     "output_type": "stream",
     "text": [
      "Loading ../models/efficientnet_best.pt\n",
      "✓ checkpoint OK – params: 6515746\n",
      "pos_000000.png  →  ROI probability = 0.881\n"
     ]
    }
   ],
   "execution_count": 19
  }
 ],
 "metadata": {},
 "nbformat": 4,
 "nbformat_minor": 5
}
